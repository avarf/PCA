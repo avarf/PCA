{
 "cells": [
  {
   "cell_type": "code",
   "execution_count": 1,
   "metadata": {
    "collapsed": true
   },
   "outputs": [],
   "source": [
    "import numpy as np\n",
    "import numpy.linalg as linalg\n",
    "\n",
    "import os\n",
    "import glob\n",
    "#import operator\n",
    "\n",
    "import PIL\n",
    "from PIL import Image\n",
    "\n",
    "import scipy\n",
    "from scipy import misc,spatial"
   ]
  },
  {
   "cell_type": "code",
   "execution_count": 2,
   "metadata": {
    "collapsed": false
   },
   "outputs": [
    {
     "data": {
      "text/plain": [
       "array([255, 255, 255, ..., 240, 253, 254], dtype=uint8)"
      ]
     },
     "execution_count": 2,
     "metadata": {},
     "output_type": "execute_result"
    }
   ],
   "source": [
    "trainimages = sorted(glob.iglob('./data/eigenfaces/training/*.pgm'))\n",
    "def getid(fname):\n",
    "    return int(os.path.basename(fname)[7:9])\n",
    "fileids = map(getid,trainimages)\n",
    "im = PIL.Image.open(trainimages[1])\n",
    "iiii = scipy.misc.imresize(im,50)\n",
    "np.ravel(iiii)"
   ]
  },
  {
   "cell_type": "code",
   "execution_count": 52,
   "metadata": {
    "collapsed": false
   },
   "outputs": [
    {
     "name": "stdout",
     "output_type": "stream",
     "text": [
      "[1 2 3 4 5 6 7 8 9]\n",
      "[[1 2 3]\n",
      " [4 5 6]\n",
      " [7 8 9]]\n"
     ]
    },
    {
     "data": {
      "text/plain": [
       "array([ 4.,  5.,  6.])"
      ]
     },
     "execution_count": 52,
     "metadata": {},
     "output_type": "execute_result"
    }
   ],
   "source": [
    "teat = np.arange(1,10)\n",
    "print teat\n",
    "teat = np.reshape(teat,(3,3))\n",
    "print teat\n",
    "np.mean(teat,axis=0)"
   ]
  },
  {
   "cell_type": "code",
   "execution_count": 71,
   "metadata": {
    "collapsed": false
   },
   "outputs": [
    {
     "name": "stdout",
     "output_type": "stream",
     "text": [
      "[6, 1, 2, 1, 2, 3, 3, 8, 14, 4, 14, 4, 12, 5, 9, 5, 6, 6, 2, 6, 6, 7, 7, 7, 3, 8, 2, 8, 9, 9, 3, 9, 9, 10, 10, 10, 11, 11, 11, 11, 11, 1, 12, 12, 13, 7, 14, 14, 4, 14, 2, 3, 15, 15, 15]\n",
      "[1, 1, 1, 1, 2, 3, 3, 3, 4, 4, 4, 4, 5, 5, 5, 5, 6, 6, 6, 6, 6, 7, 7, 7, 7, 8, 8, 8, 9, 9, 9, 9, 9, 10, 10, 10, 11, 11, 11, 11, 11, 12, 12, 12, 13, 13, 14, 14, 14, 14, 15, 15, 15, 15, 15]\n",
      "0.709090909091\n"
     ]
    }
   ],
   "source": [
    "trainnames = sorted(glob.iglob('./data/eigenfaces/training/*.pgm'))\n",
    "trainids = map(getid,trainnames)\n",
    "\n",
    "testnames = sorted(glob.iglob('./data/eigenfaces/test/*.pgm'))\n",
    "testids = map(getid, testnames)\n",
    "\n",
    "eigf = Eig()\n",
    "eigf.train(trainnames, trainids)\n",
    "eigf.test(testnames, testids)"
   ]
  },
  {
   "cell_type": "code",
   "execution_count": 70,
   "metadata": {
    "collapsed": false
   },
   "outputs": [],
   "source": [
    "class Eig(object):\n",
    "    def train(self, trainfilenames, fileids):\n",
    "        flag = 0\n",
    "        self.trainid = fileids\n",
    "        # creating the training matrix\n",
    "        for path in trainfilenames:\n",
    "            trainimg = PIL.Image.open(path)\n",
    "            trainimg = scipy.misc.imresize(trainimg,50)\n",
    "            ravelimg = np.ravel(trainimg)\n",
    "            if flag == 0:\n",
    "                trainmatrix = ravelimg\n",
    "                flag = flag +1\n",
    "            else:\n",
    "                trainmatrix = np.vstack((trainmatrix, ravelimg))\n",
    "        # start PCA\n",
    "        self.trainaverageimg = np.mean(trainmatrix, axis=0)\n",
    "        submeantrainimg = trainmatrix - self.trainaverageimg\n",
    "        U,D,V = np.linalg.svd(submeantrainimg.T)\n",
    "        self.eigenfaces = U[:,0:5]\n",
    "        trainweights = np.dot(submeantrainimg, self.eigenfaces)\n",
    "        self.tree = spatial.cKDTree(trainweights)\n",
    "        \n",
    "    def test(self, testfilenames, testids):\n",
    "        correctmatch = 0\n",
    "        tmpaverageimg = self.trainaverageimg\n",
    "        bestmatchidlist = list()\n",
    "        matchrate = 0\n",
    "        \n",
    "        for img in testfilenames:\n",
    "            testimg = PIL.Image.open(img)\n",
    "            restestimg = misc.imresize(testimg, 50)\n",
    "            raveltest = np.ravel(restestimg)\n",
    "            subtestimg = raveltest - tmpaverageimg\n",
    "            testimgweight = np.dot(subtestimg, self.eigenfaces)\n",
    "            distance, bestmatch = self.tree.query(testimgweight)\n",
    "            bestmatchid = self.trainid[bestmatch]\n",
    "            bestmatchidlist.append(bestmatchid)\n",
    "        print bestmatchidlist\n",
    "        print testids\n",
    "        for (t,m) in zip(testids, bestmatchidlist):\n",
    "            if t == m:\n",
    "                matchrate = matchrate + 1\n",
    "        print (matchrate * 1./len(testids))"
   ]
  },
  {
   "cell_type": "code",
   "execution_count": 2,
   "metadata": {
    "collapsed": true
   },
   "outputs": [],
   "source": [
    "%matplotlib inline"
   ]
  },
  {
   "cell_type": "markdown",
   "metadata": {},
   "source": [
    "# Getting Help"
   ]
  },
  {
   "cell_type": "code",
   "execution_count": 5,
   "metadata": {
    "collapsed": false
   },
   "outputs": [],
   "source": [
    "from pylab import *\n",
    "#lookfor('hstack')"
   ]
  },
  {
   "cell_type": "markdown",
   "metadata": {},
   "source": [
    "# Plotting"
   ]
  },
  {
   "cell_type": "markdown",
   "metadata": {},
   "source": [
    "# Loading Images"
   ]
  },
  {
   "cell_type": "code",
   "execution_count": 4,
   "metadata": {
    "collapsed": false
   },
   "outputs": [
    {
     "name": "stdout",
     "output_type": "stream",
     "text": [
      "[1, 1, 1, 1, 2, 3, 3, 3, 4, 4, 4, 4, 5, 5, 5, 5, 6, 6, 6, 6, 6, 7, 7, 7, 7, 8, 8, 8, 9, 9, 9, 9, 9, 10, 10, 10, 11, 11, 11, 11, 11, 12, 12, 12, 13, 13, 14, 14, 14, 14, 15, 15, 15, 15, 15]\n"
     ]
    },
    {
     "data": {
      "text/plain": [
       "'\\nface_recognition = FaceRecognition()\\n\\nface_recognition.enroll_faces(training_image_filenames, train_subject_ids)\\nrecognized_ids = face_recognition.recognize_faces(test_image_filenames)\\n\\ndifferent_results = np.array(test_subject_ids) - np.array(recognized_ids)\\nprint (different_results)\\npositives = (different_results == 0).sum()\\n\\nassert positives >= 41\\n'"
      ]
     },
     "execution_count": 4,
     "metadata": {},
     "output_type": "execute_result"
    }
   ],
   "source": [
    "import os\n",
    "import glob\n",
    "import operator\n",
    "\n",
    "\n",
    "#Loading the Training dataset images\n",
    "#training_image_filenames = sorted(glob.iglob('./data/training/*.pgm'))\n",
    "training_image_filenames = sorted(glob.iglob('./data/eigenfaces/training/*.pgm'))\n",
    "\n",
    "#Loading the Test dataset images\n",
    "test_image_filenames = sorted(glob.iglob('./data/eigenfaces/test/*.pgm'))\n",
    "\n",
    "#creating a Lambda function to extract the filename\n",
    "#the filename of the image is the subject id\n",
    "subject_number = lambda filename: int(os.path.basename(filename)[7:9])\n",
    "\n",
    "#extracting the filename using the lambda function\n",
    "train_subject_ids = list (map(subject_number, training_image_filenames))\n",
    "test_subject_ids = list (map(subject_number, test_image_filenames))\n",
    "\n",
    "print (test_subject_ids)\n",
    "'''\n",
    "face_recognition = FaceRecognition()\n",
    "\n",
    "face_recognition.enroll_faces(training_image_filenames, train_subject_ids)\n",
    "recognized_ids = face_recognition.recognize_faces(test_image_filenames)\n",
    "\n",
    "different_results = np.array(test_subject_ids) - np.array(recognized_ids)\n",
    "print (different_results)\n",
    "positives = (different_results == 0).sum()\n",
    "\n",
    "assert positives >= 41\n",
    "'''"
   ]
  },
  {
   "cell_type": "code",
   "execution_count": 3,
   "metadata": {
    "collapsed": true
   },
   "outputs": [],
   "source": [
    "# for showing the images\n",
    "from PIL import Image as pim"
   ]
  },
  {
   "cell_type": "code",
   "execution_count": 7,
   "metadata": {
    "collapsed": false
   },
   "outputs": [
    {
     "name": "stdout",
     "output_type": "stream",
     "text": [
      "(503, 503)\n"
     ]
    },
    {
     "data": {
      "text/plain": [
       "<matplotlib.image.AxesImage at 0x8005ef0>"
      ]
     },
     "execution_count": 7,
     "metadata": {},
     "output_type": "execute_result"
    },
    {
     "data": {
      "image/png": "[encoded data removed]",
      "text/plain": [
       "<matplotlib.figure.Figure at 0x7e9ed30>"
      ]
     },
     "metadata": {},
     "output_type": "display_data"
    }
   ],
   "source": [
    "img2 = pim.open('pic/Tux.png')\n",
    "print img2.size\n",
    "\n",
    "# Converting to grayscale\n",
    "imggray = img2.convert('LA')\n",
    "\n",
    "plt.figure(figsize=(4, 4))\n",
    "plt.imshow(imggray)"
   ]
  },
  {
   "cell_type": "code",
   "execution_count": null,
   "metadata": {
    "collapsed": true
   },
   "outputs": [],
   "source": [
    "#Converting to numpy matrix\n",
    "imgmat = np.array(list(imggray.getdata(band=0)), float)\n",
    "imgmat.shape = (imggray.size[1], imggray.size[0])\n",
    "imgmat = np.matrix(imgmat)\n",
    "plt.figure(figsize=(4,4))\n",
    "plt.imshow(imgmat, cmap='gray');"
   ]
  },
  {
   "cell_type": "markdown",
   "metadata": {
    "collapsed": true
   },
   "source": [
    "# Eigenfaces"
   ]
  },
  {
   "cell_type": "markdown",
   "metadata": {},
   "source": [
    "# loading CSV file"
   ]
  },
  {
   "cell_type": "code",
   "execution_count": 16,
   "metadata": {
    "collapsed": true
   },
   "outputs": [],
   "source": [
    "d = np.genfromtxt('planedata.csv',delimiter=',')\n",
    "x = d[0]\n",
    "y = d[1]\n",
    "z = d[2]"
   ]
  },
  {
   "cell_type": "code",
   "execution_count": 76,
   "metadata": {
    "collapsed": false,
    "scrolled": true
   },
   "outputs": [
    {
     "data": {
      "text/plain": [
       "array([[ 0.34745711,  0.44004517,  0.72944635,  0.8454958 ,  0.53844583,\n",
       "         0.66106731,  0.8567587 ,  0.02729644,  0.6442586 ,  0.97493222],\n",
       "       [ 0.02949181,  0.63615855,  0.99905642,  0.29872585,  0.15823535,\n",
       "         0.22952272,  0.85921773,  0.00908835,  0.51469946,  0.56063438],\n",
       "       [ 0.38580252,  0.43961741,  0.37287846,  0.90596154,  0.46931807,\n",
       "         0.5218421 ,  0.17140406,  0.87579783,  0.7845141 ,  0.26633588],\n",
       "       [ 0.58763275,  0.47368359,  0.44304322,  0.01899987,  0.04438416,\n",
       "         0.67896108,  0.83790768,  0.87546436,  0.21461652,  0.00117566],\n",
       "       [ 0.9982011 ,  0.50540716,  0.91003877,  0.27419578,  0.37993117,\n",
       "         0.56627065,  0.99072382,  0.60706445,  0.81991132,  0.04674462]])"
      ]
     },
     "execution_count": 76,
     "metadata": {},
     "output_type": "execute_result"
    }
   ],
   "source": [
    "#load data from a npy file\n",
    "np.load(\"test.npy\")"
   ]
  },
  {
   "cell_type": "markdown",
   "metadata": {},
   "source": [
    "# Getting max and min of an array for curve fitting"
   ]
  },
  {
   "cell_type": "code",
   "execution_count": 6,
   "metadata": {
    "collapsed": false
   },
   "outputs": [
    {
     "name": "stdout",
     "output_type": "stream",
     "text": [
      "4700   99.9910947729\n"
     ]
    },
    {
     "data": {
      "text/plain": [
       "99.991094772941196"
      ]
     },
     "execution_count": 6,
     "metadata": {},
     "output_type": "execute_result"
    }
   ],
   "source": [
    "xargmax = np.argmax(x)\n",
    "xmax = x[4700]\n",
    "print xargmax, ' ',xmax\n",
    "\n",
    "xmax2 = np.max(x)\n",
    "xmax2"
   ]
  },
  {
   "cell_type": "markdown",
   "metadata": {},
   "source": [
    "# Plotting"
   ]
  },
  {
   "cell_type": "code",
   "execution_count": 6,
   "metadata": {
    "collapsed": true
   },
   "outputs": [],
   "source": [
    "import matplotlib.pyplot as plt\n",
    "#3D\n",
    "from mpl_toolkits.mplot3d import Axes3D\n",
    "from mpl_toolkits.mplot3d import proj3d"
   ]
  },
  {
   "cell_type": "code",
   "execution_count": 8,
   "metadata": {
    "collapsed": false
   },
   "outputs": [
    {
     "data": {
      "image/png": "[encoded data removed]",
      "text/plain": [
       "<matplotlib.figure.Figure at 0x79c2080>"
      ]
     },
     "metadata": {},
     "output_type": "display_data"
    }
   ],
   "source": [
    "# scatter 3D\n",
    "fig = plt.figure()\n",
    "ax = fig.gca(projection='3d')\n",
    "ax.scatter(x,y,z)\n",
    "plt.show()"
   ]
  },
  {
   "cell_type": "markdown",
   "metadata": {},
   "source": [
    "# Curvefitting\n",
    "Eigenvalues and point clouds must also be read\n",
    "\n",
    "http://docs.sympy.org/0.7.2/modules/physics/mechanics/api/essential.html"
   ]
  },
  {
   "cell_type": "code",
   "execution_count": null,
   "metadata": {
    "collapsed": true
   },
   "outputs": [],
   "source": [
    "# assignment old answer\n",
    "def svd_solver(A, b):\n",
    "    \n",
    "    U, s, V = np.linalg.svd(A)\n",
    "    print U.shape \n",
    "    \n",
    "    inv = np.dot((V.T).dot(np.diag(s**(-1))), U[:,:2].T)\n",
    "    x = np.dot(inv, b)\n",
    "    \n",
    "    return x\n",
    "\n",
    "def compute_parallel_lines(first_line, second_line):\n",
    "    # reading data files \n",
    "    data1 = np.load(first_line)\n",
    "    data2 = np.load(second_line)\n",
    "    \n",
    "    # extract x and y from the raw data\n",
    "    l1_x = data1[:,0]\n",
    "    l1_y = data1[:,1]\n",
    "    \n",
    "    l2_x = data2[:,0]\n",
    "    l2_y = data2[:,1]\n",
    "    \n",
    "    # adding one column of 1 to both lines x\n",
    "    l1_A = np.column_stack((l1_x, np.ones(len(l1_x))))\n",
    "    l2_A = np.column_stack((l2_x, np.ones(len(l2_x))))\n",
    "    \n",
    "    # calculating slope and intercepte of both lines\n",
    "    l1_m, l1_c = svd_solver(l1_A, l1_y)\n",
    "    l2_m, l2_c = svd_solver(l2_A, l2_y)\n",
    "    \n",
    "    print('Slope and Intercept of first line : ', l1_m, l1_c)\n",
    "    print('Slope and Intercept of first line : ', l2_m, l2_c)\n",
    "    \n",
    "    plt.plot(l1_x, l1_m*l1_x+l1_c, 'o', label = 'First fitted line')\n",
    "    plt.plot(l2_x, l2_m*l2_x+l2_c, 'r', label = 'Second fitted line')\n",
    "    plt.legend()\n",
    "    plt.show()\n",
    "\n",
    "#loading data for lines\n",
    "line1 = 'data/P1.npy'\n",
    "line2 = 'data/Q1.npy'\n",
    "\n",
    "# calling tne function\n",
    "compute_parallel_lines(line1, line2)"
   ]
  },
  {
   "cell_type": "code",
   "execution_count": null,
   "metadata": {
    "collapsed": true
   },
   "outputs": [],
   "source": []
  },
  {
   "cell_type": "markdown",
   "metadata": {},
   "source": [
    "## plot a plane with normal vector and one point"
   ]
  },
  {
   "cell_type": "code",
   "execution_count": 156,
   "metadata": {
    "collapsed": false
   },
   "outputs": [
    {
     "data": {
      "image/png": "[encoded data removed]",
      "text/plain": [
       "<matplotlib.figure.Figure at 0xabdf048>"
      ]
     },
     "metadata": {},
     "output_type": "display_data"
    }
   ],
   "source": [
    "#point  = np.array([1, 2, 3])\n",
    "#normal = np.array([1, 0.5, 2])\n",
    "point  = planepoint\n",
    "#normal = vec\n",
    "normal = newnormvec\n",
    "\n",
    "# a plane is a*x+b*y+c*z+d=0\n",
    "# [a,b,c] is the normal. Thus, we have to calculate\n",
    "# d and we're set\n",
    "d = -point.dot(normal)\n",
    "\n",
    "# create x,y\n",
    "xx, yy = np.meshgrid(range(10), range(10))\n",
    "\n",
    "# calculate corresponding z\n",
    "zzz = (normal[0] * xx + normal[1] * yy - d) * 1. /normal[2]\n",
    "\n",
    "# plot the surface\n",
    "plt3d = plt.figure().gca(projection='3d')\n",
    "plt3d.plot_surface(xx, yy, zzz)\n",
    "plt3d.set_xlabel('X')\n",
    "plt3d.set_ylabel('Y')\n",
    "plt.show()"
   ]
  },
  {
   "cell_type": "markdown",
   "metadata": {},
   "source": [
    "# Curve fitting the plane and rotating it"
   ]
  },
  {
   "cell_type": "code",
   "execution_count": 155,
   "metadata": {
    "collapsed": false
   },
   "outputs": [
    {
     "name": "stdout",
     "output_type": "stream",
     "text": [
      "1.57079632679\n",
      "0.0274155677808\n",
      "[  2.78471750e-17   1.00000000e-01   1.13568860e-16]\n",
      "[  1.13568860e-15   1.00000000e+00  -2.78471750e-16]\n"
     ]
    }
   ],
   "source": [
    "# steps:\n",
    "# 1. curve fitting the plane\n",
    "# 2. calculating the normal vector\n",
    "# 3. calculating the difference between the normal vector and Z vector(0,0,1)\n",
    "# 4. rotating the normal vector\n",
    "# 5. draw the plane with the new normal vector\n",
    "\n",
    "# 1. curve fitting the plane\n",
    "planepoint = np.array([[x[1], y[1], z[1]]])\n",
    "planeA = np.column_stack((x,y))\n",
    "planeA = np.column_stack((planeA , np.ones(len(planeA))))\n",
    "normvec = np.linalg.lstsq(planeA,z)\n",
    "vec = normvec[0]\n",
    "\n",
    "\n",
    "# 2. calculating the normal vector\n",
    "# this is just \"vec\" in the last part\n",
    "\n",
    "# 3. calculating the difference between the normal vector and Z vector[0,0,1]\n",
    "zvec = [0,0,1]\n",
    "cos_angle = np.dot(vec, zvec) / (norm(vec) * norm(zvec))\n",
    "differ = arccos(cos_angle)\n",
    "#differ = np.radians(differ)\n",
    "print differ\n",
    "print np.radians(differ)\n",
    "\n",
    "# 4. rotating the normal vector\n",
    "rx = np.array([[1, 0 , 0],\n",
    "               [0, math.cos(differ), -math.sin(differ)],\n",
    "               [0, math.sin(differ), math.cos(differ)]])\n",
    "rz = np.array([[math.cos(differ), -math.sin(differ), 0],\n",
    "               [math.sin(differ), math.cos(differ), 0],\n",
    "               [0, 0, 1]])\n",
    "\n",
    "ry = np.array([[math.cos(differ),0, math.sin(differ)],\n",
    "               [0, 1, 0],\n",
    "               [-math.sin(differ), 0, math.cos(differ)]])\n",
    "\n",
    "#newnormvec = np.dot(rx,vec)\n",
    "# 5. draw the plane with the new normal vector\n",
    "\n",
    "print vec\n",
    "newnormvec = np.dot(ry,vec)\n",
    "newnormvec = newnormvec/norm(newnormvec)\n",
    "print newnormvec"
   ]
  },
  {
   "cell_type": "markdown",
   "metadata": {},
   "source": [
    "## Curve fitting Sphere"
   ]
  },
  {
   "cell_type": "code",
   "execution_count": 15,
   "metadata": {
    "collapsed": false
   },
   "outputs": [],
   "source": [
    "#\tfit a sphere to X,Y, and Z data points\n",
    "#\treturns the radius and center points of\n",
    "#\tthe best fit sphere\n",
    "def sphereFit(spX,spY,spZ):\n",
    "    #   Assemble the A matrix\n",
    "    spX = np.array(spX)\n",
    "    spY = np.array(spY)\n",
    "    spZ = np.array(spZ)\n",
    "    A = np.zeros((len(spX),4))\n",
    "    A[:,0] = spX*2\n",
    "    A[:,1] = spY*2\n",
    "    A[:,2] = spZ*2\n",
    "    A[:,3] = 1\n",
    "    \n",
    "    #   Assemble the f matrix\n",
    "    f = np.zeros((len(spX),1))\n",
    "    f[:,0] = (spX*spX) + (spY*spY) + (spZ*spZ)\n",
    "    C, residules, rank, singval = np.linalg.lstsq(A,f)\n",
    "\n",
    "    #   solve for the radius\n",
    "    t = (C[0]*C[0])+(C[1]*C[1])+(C[2]*C[2])+C[3]\n",
    "    radius = math.sqrt(t)\n",
    "    \n",
    "    return radius, C[0], C[1], C[2]"
   ]
  },
  {
   "cell_type": "markdown",
   "metadata": {},
   "source": [
    "# ODE"
   ]
  },
  {
   "cell_type": "code",
   "execution_count": 22,
   "metadata": {
    "collapsed": false
   },
   "outputs": [],
   "source": [
    "# Chapter 3 File"
   ]
  },
  {
   "cell_type": "markdown",
   "metadata": {},
   "source": [
    "# Frames"
   ]
  }
 ],
 "metadata": {
  "kernelspec": {
   "display_name": "Python 2",
   "language": "python",
   "name": "python2"
  },
  "language_info": {
   "codemirror_mode": {
    "name": "ipython",
    "version": 2
   },
   "file_extension": ".py",
   "mimetype": "text/x-python",
   "name": "python",
   "nbconvert_exporter": "python",
   "pygments_lexer": "ipython2",
   "version": "2.7.11"
  }
 },
 "nbformat": 4,
 "nbformat_minor": 0
}
